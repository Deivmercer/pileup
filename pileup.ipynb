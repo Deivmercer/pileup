{
 "cells": [
  {
   "cell_type": "markdown",
   "id": "d0852cb7",
   "metadata": {},
   "source": [
    "# Pileup\n",
    "*856114 - Costantini Davide*  \n",
    "*869877 - Giannaccari Mattia*  \n",
    "Progetto di laboratorio per il corso di bioinformatica: implementazione della pileup"
   ]
  },
  {
   "cell_type": "markdown",
   "id": "dc2bce8b",
   "metadata": {},
   "source": [
    "----"
   ]
  },
  {
   "cell_type": "markdown",
   "id": "711e87df",
   "metadata": {},
   "source": [
    "Come prima cosa si installi pysam per la lettura del file BAM/SAM"
   ]
  },
  {
   "cell_type": "code",
   "execution_count": null,
   "id": "910f1270",
   "metadata": {},
   "outputs": [],
   "source": [
    "!conda install -y -c pysam"
   ]
  },
  {
   "cell_type": "markdown",
   "id": "fc91bf82",
   "metadata": {},
   "source": [
    "Si importino i moduli:\n",
    " * `pysam` per l'__indicizzazione__ del file\n",
    " * `AlignmentFile` per la __lettura__ del file\n",
    " * `re` per l'uso delle __espressioni regolari__\n",
    " * `counter` per contare il __numero di basi__ per ogni posizione"
   ]
  },
  {
   "cell_type": "code",
   "execution_count": null,
   "id": "b011cea0",
   "metadata": {},
   "outputs": [],
   "source": [
    "import pysam\n",
    "from pysam import AlignmentFile\n",
    "import re\n",
    "from collections import Counter"
   ]
  },
  {
   "cell_type": "markdown",
   "id": "469cf0f8",
   "metadata": {},
   "source": [
    "Si imposti il parametro sulla qualità minima degli allineamenti: una base della read che abbia qualità __inferiore alla soglia__ verrà ignorata.  \n",
    "(Il valore 2 corrisponde al carattere # nella quality string della query, il calcolo verrà maggiormente approfondito nel seguito)"
   ]
  },
  {
   "cell_type": "code",
   "execution_count": null,
   "id": "3aa8cc5b",
   "metadata": {},
   "outputs": [],
   "source": [
    "quality_threshold = 2"
   ]
  },
  {
   "cell_type": "markdown",
   "id": "1c821a50",
   "metadata": {},
   "source": [
    "Si imposti il parametro sul nome del file e si osservi inoltre che nella lettura del file può essere utilizzata la modalità di apertura `r` per file SAM, ovvero in __formato testuale__, oppure `rb` per file BAM, ovvero in __formato binario__. Tale modalità è impostata automaticamente in questa implementazione a partire dall'estensione del file aperto.\n",
    "\n",
    "La principale differenza su cui è stata posta l'attenzione durante l'implementazione riguarda la __modalità di indirizzamento__ della reference e delle read nelle query:\n",
    "* Un file in formato __SAM__ usa un sistema di coordinate __1-based__, ovvero un sistema in cui la prima base di una stringa corrisponde all'indice 1\n",
    "* Un file in formato __BAM__ usa un sistema di coordinate __0-based__, ovvero un sistema in cui la prima base di una stringa corrisponde all'indice 0"
   ]
  },
  {
   "cell_type": "code",
   "execution_count": null,
   "id": "49c10edc",
   "metadata": {},
   "outputs": [],
   "source": [
    "file_name = \"sample.bam\"\n",
    "open_mode = \"rb\" if file_name.split('.')[-1] == \"bam\" else 'r'"
   ]
  },
  {
   "cell_type": "markdown",
   "id": "94847e89",
   "metadata": {},
   "source": [
    "Si indicizzi il file BAM tramite la funzione `index()` e si costruisca l'oggetto `AlignmentFile`."
   ]
  },
  {
   "cell_type": "code",
   "execution_count": null,
   "id": "338720e0",
   "metadata": {},
   "outputs": [],
   "source": [
    "pysam.index(file_name)\n",
    "bamfile = AlignmentFile(file_name, open_mode)"
   ]
  },
  {
   "cell_type": "markdown",
   "id": "794d11cf",
   "metadata": {},
   "source": [
    "Si usi la funzione `fetch()` per ottenere un __iteratore__ contenente tutti gli allineamenti del file BAM."
   ]
  },
  {
   "cell_type": "code",
   "execution_count": null,
   "id": "1a2ff2f5",
   "metadata": {},
   "outputs": [],
   "source": [
    "all_alignments = bamfile.fetch()"
   ]
  },
  {
   "cell_type": "markdown",
   "id": "5ea77fc2",
   "metadata": {},
   "source": [
    "In questa impolementazione è stato utilizzato un __dizionario__ per memorizzare le basi delle read in funzione del loro allineamento nella reference: la __chiave__ del dizionario corrisponde alla __posizione nella reference__ e il __valore__ corrisponde a una __lista di tuple__ nel formato:  \n",
    "\n",
    "`(QueryName, Base, Quality)`  \n",
    "\n",
    "dove:\n",
    "* __QueryName__ rappresenta il nome della query contenente la read da cui la base è stata letta\n",
    "* __Base__ rappresenta la base impilata\n",
    "* __Quality__ rappresenta la qualità della base, il cui calcolo verrà approfondito nel seguito"
   ]
  },
  {
   "cell_type": "code",
   "execution_count": null,
   "id": "21a1bd9c",
   "metadata": {},
   "outputs": [],
   "source": [
    "pileup = dict()"
   ]
  },
  {
   "cell_type": "markdown",
   "id": "45881f37",
   "metadata": {},
   "source": [
    "Il valore della __qualità__ per ogni base della query si trova all'interno della __stringa di qualità__. Tale stringa ha una lunghezza pari alla lunghezza della read e il carattere i-esimo della stringa di qualità corrisponde al valore di qualità della base i-esima nella read.\n",
    "I valori di qualità sono espressi come __caratteri ASCII__ compresi tra `!` e `~` e possono essere __convertiti in valori interi__ compresi tra 0 e 126 tramite l'espressione:\n",
    "\n",
    "`ord(qual_string[offset]) - 33`\n",
    "\n",
    "dove si legge il carattere all'indice `offset` della stringa `qual_string` e, tramite la funzione `ord()` si calcola il suo valore intero corrispondente nella tabella ASCII. A tale valore  si sottrae poi 33."
   ]
  },
  {
   "cell_type": "code",
   "execution_count": null,
   "id": "daac82c6",
   "metadata": {},
   "outputs": [],
   "source": [
    "def phred_to_int(quality):\n",
    "    return ord(quality) - 33"
   ]
  },
  {
   "cell_type": "markdown",
   "id": "80b47ce9",
   "metadata": {},
   "source": [
    "Iterando su tutte query del file BAM usiamo la variabile `position` per indicizzare la __reference__ e la variabile `offset` per indicizzare la __read__.\n",
    "\n",
    "L'espressione regolare `([0-9]+)([MIDNSHP])` è usata per __processare la CIGAR string__ ed ottenere una lista di tuple nel formato  \n",
    "\n",
    "`(aligned_chars, alignment_type)`  \n",
    "\n",
    "dove `aligned_chars` indica il __numero dei caratteri__ allineati e `alignment_type` il __tipo di allineamento__.  \n",
    "Le possibili CIGAR operation sono:\n",
    "\n",
    "| Operazione | Descrizione | Consuma la query | Consuma la reference |\n",
    "|:----:|:---|:----:|:----:|\n",
    "| __M__ | Match o mismatch | ✓ | ✓ |\n",
    "| __I__ | Inserimento nella reference | ✓ |  |\n",
    "| __D__ | Delezione dalla reference |  | ✓ |\n",
    "| __N__ | Regione della reference saltata |  | ✓ |\n",
    "| __S__ | Soft clipping (sequenza clippata presente nella read) | ✓ |  |\n",
    "| __H__ | Hard clipping (sequenza clippata NON presente nella read) |  |  |\n",
    "| __P__ | Padding (delezione silente dalla padded reference) |  |  |\n",
    "\n",
    "\n",
    "Nel caso in cui l'operazione __consumi la reference__, viene incrementato l'indice `position`, nel caso in cui l'operazione __consumi la query__ viene incrementato l'indice `offset`.\n",
    "\n",
    "Si osservi inoltre che, data una certa query, la somma delle operazioni  `M`, `I`, `S` deve essere uguale alla lunghezza della read associata a tale query.\n",
    "\n",
    "La base viene dunque impilata solo nel caso in cui l'operazione CIGAR sia `M` e tale base abbia una qualità __maggiore o uguale__ alla soglia di qualità `quality_threshold`."
   ]
  },
  {
   "cell_type": "code",
   "execution_count": null,
   "id": "ede876fb",
   "metadata": {},
   "outputs": [],
   "source": [
    "for alignment in all_alignments:\n",
    "    if alignment.cigarstring is None:\n",
    "        continue\n",
    "    position = alignment.reference_start\n",
    "    cigar = re.findall(\"([0-9]+)([MIDNSHP])\", alignment.cigarstring)\n",
    "    sequence = alignment.query_sequence\n",
    "    qual_string = alignment.qual\n",
    "    offset = 0\n",
    "    for aligned_chars, alignment_type in cigar:\n",
    "        if alignment_type == 'H' or alignment_type == 'P':\n",
    "            continue\n",
    "        if alignment_type == 'N' or alignment_type == 'D':\n",
    "            position += int(aligned_chars)\n",
    "        elif alignment_type == 'S' or alignment_type == 'I':\n",
    "            offset += int(aligned_chars)\n",
    "        elif alignment_type == 'M':\n",
    "            for _ in range(int(aligned_chars)):\n",
    "                quality = phred_to_int(qual_string[offset])\n",
    "                if position in pileup:\n",
    "                    if quality >= quality_threshold:\n",
    "                        pileup[position].append((alignment.qname, sequence[offset], quality))\n",
    "                else:\n",
    "                    if quality >= quality_threshold:\n",
    "                        pileup[position] = [(alignment.qname, sequence[offset], quality)]\n",
    "                position += 1\n",
    "                offset += 1"
   ]
  },
  {
   "cell_type": "markdown",
   "id": "a68bd3b2",
   "metadata": {},
   "source": [
    "La più piccola posizione nella reference coperta dalle read è:"
   ]
  },
  {
   "cell_type": "code",
   "execution_count": null,
   "id": "6a56d81b",
   "metadata": {},
   "outputs": [],
   "source": [
    "min_position = min(pileup.keys())\n",
    "min_position"
   ]
  },
  {
   "cell_type": "markdown",
   "id": "5c4eddc6",
   "metadata": {},
   "source": [
    "La più grande posizione nella reference coperta dalle read è:"
   ]
  },
  {
   "cell_type": "code",
   "execution_count": null,
   "id": "8795ca9d",
   "metadata": {},
   "outputs": [],
   "source": [
    "max_position = max(pileup.keys())\n",
    "max_position"
   ]
  },
  {
   "cell_type": "markdown",
   "id": "94aeddbc",
   "metadata": {},
   "source": [
    "È quindi infine possibile consultare le basi impilate su una certa posizione della reference cambiando il valore di `queried_position`"
   ]
  },
  {
   "cell_type": "code",
   "execution_count": null,
   "id": "96d1e536",
   "metadata": {},
   "outputs": [],
   "source": [
    "queried_position = max_position\n",
    "\n",
    "read_list = pileup[queried_position]\n",
    "count = Counter([read[1] for read in read_list])\n",
    "print(count)\n",
    "print(\"Number of reads in the queried position: \" + str(len(read_list)))\n",
    "for read in read_list:\n",
    "    print(\"Query name: \" + read[0] + \"\\t\", \"\\tBase: \" + read[1], \"\\tQuality: \" + str(read[2]))"
   ]
  }
 ],
 "metadata": {
  "kernelspec": {
   "display_name": "Python 3 (ipykernel)",
   "language": "python",
   "name": "python3"
  },
  "language_info": {
   "codemirror_mode": {
    "name": "ipython",
    "version": 3
   },
   "file_extension": ".py",
   "mimetype": "text/x-python",
   "name": "python",
   "nbconvert_exporter": "python",
   "pygments_lexer": "ipython3",
   "version": "3.8.12"
  }
 },
 "nbformat": 4,
 "nbformat_minor": 5
}
